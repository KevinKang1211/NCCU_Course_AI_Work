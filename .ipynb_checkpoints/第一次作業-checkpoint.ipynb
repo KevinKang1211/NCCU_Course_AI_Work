{
 "cells": [
  {
   "cell_type": "markdown",
   "metadata": {},
   "source": [
    "# 第一次作業"
   ]
  },
  {
   "cell_type": "code",
   "execution_count": 6,
   "metadata": {},
   "outputs": [],
   "source": [
    "%matplotlib inline\n",
    "import numpy as np\n",
    "import matplotlib.pyplot as plt\n",
    "import pandas as pd"
   ]
  },
  {
   "cell_type": "code",
   "execution_count": 7,
   "metadata": {},
   "outputs": [
    {
     "name": "stdout",
     "output_type": "stream",
     "text": [
      "請輸入使用卡片類型之對應代碼-1.悠遊卡、2.一卡通：56\n",
      "輸入格式錯誤，請重新輸入代碼。\n",
      "請輸入使用卡片類型之對應代碼-1.悠遊卡、2.一卡通：uhu\n",
      "輸入格式錯誤，請重新輸入代碼。\n",
      "請輸入使用卡片類型之對應代碼-1.悠遊卡、2.一卡通：2\n",
      "請輸入Youbike騎乘分鐘數：49\n",
      "優惠期間使用一卡通租借Youbike，前一小時免費！\n"
     ]
    }
   ],
   "source": [
    "while True:\n",
    "    card = input(\"請輸入使用卡片類型之對應代碼-1.悠遊卡、2.一卡通：\")\n",
    "    if card == \"1\" or card == \"2\":\n",
    "        break\n",
    "    else: \n",
    "        print(\"輸入格式錯誤，請重新輸入代碼。\")\n",
    "if card == \"1\":\n",
    "    m = input(\"請輸入Youbike騎乘分鐘數：\")\n",
    "    m = int(m)\n",
    "    if  m<=30:\n",
    "        print(\"今日消費免費。\")\n",
    "    elif 30<m<=90:\n",
    "        a=m//30*10\n",
    "        print(\"今日消費：\",a,\"元。\")\n",
    "    else:\n",
    "        a=m//30*20\n",
    "        print(\"今日消費：\",a,\"元。\")\n",
    "else:\n",
    "    m = input(\"請輸入Youbike騎乘分鐘數：\")\n",
    "    m = int(m)\n",
    "    if  m<=60:\n",
    "        print(\"優惠期間使用一卡通租借Youbike，前一小時免費！\")\n",
    "    elif 60<m<=120:\n",
    "        a=m//30*10\n",
    "        print(\"今日消費：\",a,\"元。\")\n",
    "    else:\n",
    "        a=m//30*20\n",
    "        print(\"今日消費：\",a,\"元。\")"
   ]
  },
  {
   "cell_type": "code",
   "execution_count": null,
   "metadata": {},
   "outputs": [],
   "source": []
  }
 ],
 "metadata": {
  "kernelspec": {
   "display_name": "Python 3",
   "language": "python",
   "name": "python3"
  },
  "language_info": {
   "codemirror_mode": {
    "name": "ipython",
    "version": 3
   },
   "file_extension": ".py",
   "mimetype": "text/x-python",
   "name": "python",
   "nbconvert_exporter": "python",
   "pygments_lexer": "ipython3",
   "version": "3.7.4"
  }
 },
 "nbformat": 4,
 "nbformat_minor": 2
}
