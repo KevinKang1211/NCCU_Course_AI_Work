{
 "cells": [
  {
   "cell_type": "markdown",
   "metadata": {},
   "source": [
    "# 第三次自由程式"
   ]
  },
  {
   "cell_type": "code",
   "execution_count": null,
   "metadata": {},
   "outputs": [
    {
     "name": "stdout",
     "output_type": "stream",
     "text": [
      "歡迎使用通訊錄，新增聯絡人請輸入A，查詢或刪除聯絡人資料請輸入B：A\n",
      "請輸入姓名：康碩允\n",
      "請輸入電話號碼：292048\n",
      "歡迎使用通訊錄，新增聯絡人請輸入A，查詢或刪除聯絡人資料請輸入B：B\n",
      "歡迎使用通訊錄，若想查詢聯絡人資料請輸入F，若想刪除聯絡人資料請輸入D：F\n",
      "請選擇要印出單一資料或印出全部資料，單筆請輸入1，全部請輸入2：1\n",
      "請輸入要搜尋的聯絡人姓名或電話：王先生\n",
      "0928333444\n",
      "歡迎使用通訊錄，新增聯絡人請輸入A，查詢或刪除聯絡人資料請輸入B：B\n",
      "歡迎使用通訊錄，若想查詢聯絡人資料請輸入F，若想刪除聯絡人資料請輸入D：F\n",
      "請選擇要印出單一資料或印出全部資料，單筆請輸入1，全部請輸入2：2\n",
      "王先生 ： 0928333444\n",
      "0928333444 ： 王先生\n",
      "陳小姐 ： 0955848372\n",
      "0955848372 ： 陳小姐\n",
      "康碩允 ： 292048\n",
      "歡迎使用通訊錄，新增聯絡人請輸入A，查詢或刪除聯絡人資料請輸入B：B\n",
      "歡迎使用通訊錄，若想查詢聯絡人資料請輸入F，若想刪除聯絡人資料請輸入D：D\n",
      "請選擇要刪除單一資料或刪除全部資料，單筆請輸入3，全部請輸入4：3\n",
      "請輸入要刪除的聯絡人姓名或電話：康碩允\n",
      "歡迎使用通訊錄，新增聯絡人請輸入A，查詢或刪除聯絡人資料請輸入B：B\n",
      "歡迎使用通訊錄，若想查詢聯絡人資料請輸入F，若想刪除聯絡人資料請輸入D：F\n",
      "請選擇要印出單一資料或印出全部資料，單筆請輸入1，全部請輸入2：2\n",
      "王先生 ： 0928333444\n",
      "0928333444 ： 王先生\n",
      "陳小姐 ： 0955848372\n",
      "0955848372 ： 陳小姐\n"
     ]
    }
   ],
   "source": [
    "dict={'王先生':'0928333444','0928333444':'王先生','陳小姐':'0955848372','0955848372':'陳小姐'}\n",
    "\n",
    "while True:\n",
    "    choose=input('歡迎使用通訊錄，新增聯絡人請輸入A，查詢或刪除聯絡人資料請輸入B：')\n",
    "    if choose=='A':\n",
    "        key = input('請輸入姓名：')\n",
    "        value = input('請輸入電話號碼：')\n",
    "        dict[key]=value\n",
    "    if choose=='B':\n",
    "        check=input('歡迎使用通訊錄，若想查詢聯絡人資料請輸入F，若想刪除聯絡人資料請輸入D：')\n",
    "        if check=='F':\n",
    "            search=input('請選擇要印出單一資料或印出全部資料，單筆請輸入1，全部請輸入2：')\n",
    "            if search=='1':\n",
    "                s=input('請輸入要搜尋的聯絡人姓名或電話：')\n",
    "                print(dict.get(s,'找不到此位聯絡人資訊。'))\n",
    "            if search=='2':\n",
    "                for s in dict:\n",
    "                    print(s,'：',dict.get(s))\n",
    "        if check =='D':\n",
    "            delete=input('請選擇要刪除單一資料或刪除全部資料，單筆請輸入3，全部請輸入4：')\n",
    "            if delete=='3':\n",
    "                d=input('請輸入要刪除的聯絡人姓名或電話：')\n",
    "                del dict[d]\n",
    "            if delete=='4':\n",
    "                dict.clear()"
   ]
  },
  {
   "cell_type": "code",
   "execution_count": null,
   "metadata": {},
   "outputs": [],
   "source": []
  }
 ],
 "metadata": {
  "kernelspec": {
   "display_name": "Python 3",
   "language": "python",
   "name": "python3"
  },
  "language_info": {
   "codemirror_mode": {
    "name": "ipython",
    "version": 3
   },
   "file_extension": ".py",
   "mimetype": "text/x-python",
   "name": "python",
   "nbconvert_exporter": "python",
   "pygments_lexer": "ipython3",
   "version": "3.7.4"
  }
 },
 "nbformat": 4,
 "nbformat_minor": 2
}
