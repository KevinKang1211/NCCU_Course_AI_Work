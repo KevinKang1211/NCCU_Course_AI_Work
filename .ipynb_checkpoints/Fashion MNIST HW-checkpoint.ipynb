{
 "cells": [
  {
   "cell_type": "code",
   "execution_count": 1,
   "metadata": {},
   "outputs": [],
   "source": [
    "%matplotlib inline\n",
    "import numpy as np\n",
    "import matplotlib.pyplot as plt"
   ]
  },
  {
   "cell_type": "markdown",
   "metadata": {},
   "source": [
    "### 1.讀入Fashion MNIST數據集"
   ]
  },
  {
   "cell_type": "code",
   "execution_count": 3,
   "metadata": {},
   "outputs": [],
   "source": [
    "from tensorflow.keras.datasets import fashion_mnist"
   ]
  },
  {
   "cell_type": "code",
   "execution_count": 4,
   "metadata": {},
   "outputs": [
    {
     "name": "stdout",
     "output_type": "stream",
     "text": [
      "Downloading data from https://storage.googleapis.com/tensorflow/tf-keras-datasets/train-labels-idx1-ubyte.gz\n",
      "32768/29515 [=================================] - 0s 2us/step\n",
      "Downloading data from https://storage.googleapis.com/tensorflow/tf-keras-datasets/train-images-idx3-ubyte.gz\n",
      "26427392/26421880 [==============================] - 2s 0us/step\n",
      "Downloading data from https://storage.googleapis.com/tensorflow/tf-keras-datasets/t10k-labels-idx1-ubyte.gz\n",
      "8192/5148 [===============================================] - 0s 0s/step\n",
      "Downloading data from https://storage.googleapis.com/tensorflow/tf-keras-datasets/t10k-images-idx3-ubyte.gz\n",
      "4423680/4422102 [==============================] - 0s 0us/step\n"
     ]
    }
   ],
   "source": [
    "(x_train, y_train), (x_test, y_test) = fashion_mnist.load_data()"
   ]
  },
  {
   "cell_type": "markdown",
   "metadata": {},
   "source": [
    "### 2.欣賞數據集內容"
   ]
  },
  {
   "cell_type": "code",
   "execution_count": 5,
   "metadata": {},
   "outputs": [],
   "source": [
    "class_names = ['T-shirt/top', 'Trouser', 'Pullover', 'Dress', 'Coat',\n",
    "                'Sandal', 'Shirt', 'Sneaker', 'Bag', 'Ankle Boot']"
   ]
  },
  {
   "cell_type": "code",
   "execution_count": 8,
   "metadata": {},
   "outputs": [
    {
     "name": "stdout",
     "output_type": "stream",
     "text": [
      "60000\n",
      "10000\n"
     ]
    }
   ],
   "source": [
    "print(len(x_train))\n",
    "print(len(x_test)) #分別查看訓練資料、測試資料長度(筆數)"
   ]
  },
  {
   "cell_type": "code",
   "execution_count": 9,
   "metadata": {},
   "outputs": [],
   "source": [
    "n = 5000"
   ]
  },
  {
   "cell_type": "code",
   "execution_count": 10,
   "metadata": {},
   "outputs": [
    {
     "name": "stdout",
     "output_type": "stream",
     "text": [
      "圖片顯示的是： Coat\n"
     ]
    },
    {
     "data": {
      "text/plain": [
       "<matplotlib.image.AxesImage at 0x234c36e5748>"
      ]
     },
     "execution_count": 10,
     "metadata": {},
     "output_type": "execute_result"
    },
    {
     "data": {
      "image/png": "[encoded data removed]",
      "text/plain": [
       "<Figure size 432x288 with 1 Axes>"
      ]
     },
     "metadata": {
      "needs_background": "light"
     },
     "output_type": "display_data"
    }
   ],
   "source": [
    "print('圖片顯示的是：', class_names[y_train[n]])\n",
    "plt.imshow(x_train[n], cmap='Greys')"
   ]
  },
  {
   "cell_type": "markdown",
   "metadata": {},
   "source": [
    "### 3.資料整理"
   ]
  },
  {
   "cell_type": "code",
   "execution_count": 11,
   "metadata": {},
   "outputs": [],
   "source": [
    "x_train = x_train.reshape(60000, 784)/255 #矩陣拉平+標準化"
   ]
  },
  {
   "cell_type": "code",
   "execution_count": 12,
   "metadata": {},
   "outputs": [],
   "source": [
    "x_test = x_test.reshape(10000, 784)/255"
   ]
  },
  {
   "cell_type": "code",
   "execution_count": 13,
   "metadata": {},
   "outputs": [],
   "source": [
    "from tensorflow.keras.utils import to_categorical"
   ]
  },
  {
   "cell_type": "code",
   "execution_count": 14,
   "metadata": {},
   "outputs": [],
   "source": [
    "y_train = to_categorical(y_train, 10)"
   ]
  },
  {
   "cell_type": "code",
   "execution_count": 15,
   "metadata": {},
   "outputs": [],
   "source": [
    "y_test = to_categorical(y_test, 10)"
   ]
  },
  {
   "cell_type": "code",
   "execution_count": 17,
   "metadata": {},
   "outputs": [
    {
     "data": {
      "text/plain": [
       "array([0., 0., 0., 0., 1., 0., 0., 0., 0., 0.], dtype=float32)"
      ]
     },
     "execution_count": 17,
     "metadata": {},
     "output_type": "execute_result"
    }
   ],
   "source": [
    "y_train[5000]"
   ]
  },
  {
   "cell_type": "markdown",
   "metadata": {},
   "source": [
    "### 4.打造神經網路"
   ]
  },
  {
   "cell_type": "code",
   "execution_count": 33,
   "metadata": {},
   "outputs": [],
   "source": [
    "from tensorflow.keras.models import Sequential\n",
    "from tensorflow.keras.layers import Dense\n",
    "from tensorflow.keras.optimizers import SGD"
   ]
  },
  {
   "cell_type": "code",
   "execution_count": 34,
   "metadata": {},
   "outputs": [],
   "source": [
    "learn = Sequential()"
   ]
  },
  {
   "cell_type": "code",
   "execution_count": 35,
   "metadata": {},
   "outputs": [],
   "source": [
    "learn.add(Dense(150, input_dim=784, activation='relu'))"
   ]
  },
  {
   "cell_type": "code",
   "execution_count": 36,
   "metadata": {},
   "outputs": [],
   "source": [
    "learn.add(Dense(150, activation='relu'))"
   ]
  },
  {
   "cell_type": "code",
   "execution_count": 37,
   "metadata": {},
   "outputs": [],
   "source": [
    "learn.add(Dense(150, activation='relu'))"
   ]
  },
  {
   "cell_type": "code",
   "execution_count": 38,
   "metadata": {},
   "outputs": [],
   "source": [
    "learn.add(Dense(150, activation='relu'))"
   ]
  },
  {
   "cell_type": "code",
   "execution_count": 39,
   "metadata": {},
   "outputs": [],
   "source": [
    "learn.add(Dense(10, activation='softmax'))"
   ]
  },
  {
   "cell_type": "markdown",
   "metadata": {},
   "source": [
    "### 5.組裝神經網路"
   ]
  },
  {
   "cell_type": "code",
   "execution_count": 40,
   "metadata": {},
   "outputs": [],
   "source": [
    "learn.compile(loss='mse', optimizer=SGD(lr=0.66), metrics=['accuracy'])"
   ]
  },
  {
   "cell_type": "code",
   "execution_count": 41,
   "metadata": {},
   "outputs": [
    {
     "name": "stdout",
     "output_type": "stream",
     "text": [
      "Model: \"sequential_1\"\n",
      "_________________________________________________________________\n",
      "Layer (type)                 Output Shape              Param #   \n",
      "=================================================================\n",
      "dense_8 (Dense)              (None, 150)               117750    \n",
      "_________________________________________________________________\n",
      "dense_9 (Dense)              (None, 150)               22650     \n",
      "_________________________________________________________________\n",
      "dense_10 (Dense)             (None, 150)               22650     \n",
      "_________________________________________________________________\n",
      "dense_11 (Dense)             (None, 150)               22650     \n",
      "_________________________________________________________________\n",
      "dense_12 (Dense)             (None, 10)                1510      \n",
      "=================================================================\n",
      "Total params: 187,210\n",
      "Trainable params: 187,210\n",
      "Non-trainable params: 0\n",
      "_________________________________________________________________\n"
     ]
    }
   ],
   "source": [
    "learn.summary() \n",
    "#Param由784維輸入*150個神經元+各個神經元的偏值組成\n",
    "#784*150+150=117750"
   ]
  },
  {
   "cell_type": "markdown",
   "metadata": {},
   "source": [
    "### 6.訓練"
   ]
  },
  {
   "cell_type": "code",
   "execution_count": 42,
   "metadata": {},
   "outputs": [
    {
     "name": "stdout",
     "output_type": "stream",
     "text": [
      "Epoch 1/25\n",
      "60000/60000 [==============================] - 4s 66us/sample - loss: 0.0407 - acc: 0.7027\n",
      "Epoch 2/25\n",
      "60000/60000 [==============================] - 4s 63us/sample - loss: 0.0246 - acc: 0.8300\n",
      "Epoch 3/25\n",
      "60000/60000 [==============================] - 4s 63us/sample - loss: 0.0218 - acc: 0.8490\n",
      "Epoch 4/25\n",
      "60000/60000 [==============================] - 4s 64us/sample - loss: 0.0201 - acc: 0.8614\n",
      "Epoch 5/25\n",
      "60000/60000 [==============================] - 4s 64us/sample - loss: 0.0189 - acc: 0.8695\n",
      "Epoch 6/25\n",
      "60000/60000 [==============================] - 4s 63us/sample - loss: 0.0180 - acc: 0.8764\n",
      "Epoch 7/25\n",
      "60000/60000 [==============================] - 4s 63us/sample - loss: 0.0174 - acc: 0.8804\n",
      "Epoch 8/25\n",
      "60000/60000 [==============================] - 4s 63us/sample - loss: 0.0169 - acc: 0.8848\n",
      "Epoch 9/25\n",
      "60000/60000 [==============================] - 4s 64us/sample - loss: 0.0162 - acc: 0.8902\n",
      "Epoch 10/25\n",
      "60000/60000 [==============================] - 4s 64us/sample - loss: 0.0158 - acc: 0.8928\n",
      "Epoch 11/25\n",
      "60000/60000 [==============================] - 4s 65us/sample - loss: 0.0154 - acc: 0.8946\n",
      "Epoch 12/25\n",
      "60000/60000 [==============================] - 4s 65us/sample - loss: 0.0150 - acc: 0.8972\n",
      "Epoch 13/25\n",
      "60000/60000 [==============================] - 4s 65us/sample - loss: 0.0147 - acc: 0.9003\n",
      "Epoch 14/25\n",
      "60000/60000 [==============================] - 4s 63us/sample - loss: 0.0144 - acc: 0.9031\n",
      "Epoch 15/25\n",
      "60000/60000 [==============================] - 4s 66us/sample - loss: 0.0140 - acc: 0.9048\n",
      "Epoch 16/25\n",
      "60000/60000 [==============================] - 4s 65us/sample - loss: 0.0138 - acc: 0.9061\n",
      "Epoch 17/25\n",
      "60000/60000 [==============================] - 4s 64us/sample - loss: 0.0134 - acc: 0.9089\n",
      "Epoch 18/25\n",
      "60000/60000 [==============================] - 4s 63us/sample - loss: 0.0131 - acc: 0.9114\n",
      "Epoch 19/25\n",
      "60000/60000 [==============================] - 4s 64us/sample - loss: 0.0129 - acc: 0.9134\n",
      "Epoch 20/25\n",
      "60000/60000 [==============================] - 4s 63us/sample - loss: 0.0128 - acc: 0.9142\n",
      "Epoch 21/25\n",
      "60000/60000 [==============================] - 4s 63us/sample - loss: 0.0125 - acc: 0.9166\n",
      "Epoch 22/25\n",
      "60000/60000 [==============================] - 4s 63us/sample - loss: 0.0122 - acc: 0.9184\n",
      "Epoch 23/25\n",
      "60000/60000 [==============================] - 4s 64us/sample - loss: 0.0120 - acc: 0.9203\n",
      "Epoch 24/25\n",
      "60000/60000 [==============================] - 4s 64us/sample - loss: 0.0118 - acc: 0.9220\n",
      "Epoch 25/25\n",
      "60000/60000 [==============================] - 4s 63us/sample - loss: 0.0117 - acc: 0.9222\n"
     ]
    },
    {
     "data": {
      "text/plain": [
       "<tensorflow.python.keras.callbacks.History at 0x234c7b79c48>"
      ]
     },
     "execution_count": 42,
     "metadata": {},
     "output_type": "execute_result"
    }
   ],
   "source": [
    "learn.fit(x_train, y_train, batch_size=80, epochs=25)"
   ]
  },
  {
   "cell_type": "markdown",
   "metadata": {},
   "source": [
    "### 7.檢視訓練成果"
   ]
  },
  {
   "cell_type": "code",
   "execution_count": 47,
   "metadata": {},
   "outputs": [],
   "source": [
    "result = learn.predict_classes(x_test)"
   ]
  },
  {
   "cell_type": "code",
   "execution_count": 49,
   "metadata": {},
   "outputs": [
    {
     "name": "stdout",
     "output_type": "stream",
     "text": [
      "神經網路Learn所預測的是： Trouser\n"
     ]
    },
    {
     "data": {
      "text/plain": [
       "<matplotlib.image.AxesImage at 0x234c7d1e0c8>"
      ]
     },
     "execution_count": 49,
     "metadata": {},
     "output_type": "execute_result"
    },
    {
     "data": {
      "image/png": "[encoded data removed]",
      "text/plain": [
       "<Figure size 432x288 with 1 Axes>"
      ]
     },
     "metadata": {
      "needs_background": "light"
     },
     "output_type": "display_data"
    }
   ],
   "source": [
    "n = 6000\n",
    "print('神經網路Learn所預測的是：', class_names[result[n]])\n",
    "plt.imshow(x_test[n].reshape(28,28), cmap='Greys')"
   ]
  },
  {
   "cell_type": "markdown",
   "metadata": {},
   "source": [
    "### *修改、調整項目：\n",
    "1. 神經網路變數名稱 (model→learn)\n",
    "2. 增加隱藏層層數\n",
    "3. 增加神經元數\n",
    "4. 調整Learning Rate\n",
    "5. 降低batch_size, 增加訓練次數(epochs)"
   ]
  },
  {
   "cell_type": "code",
   "execution_count": null,
   "metadata": {},
   "outputs": [],
   "source": []
  }
 ],
 "metadata": {
  "kernelspec": {
   "display_name": "Python 3",
   "language": "python",
   "name": "python3"
  },
  "language_info": {
   "codemirror_mode": {
    "name": "ipython",
    "version": 3
   },
   "file_extension": ".py",
   "mimetype": "text/x-python",
   "name": "python",
   "nbconvert_exporter": "python",
   "pygments_lexer": "ipython3",
   "version": "3.7.6"
  }
 },
 "nbformat": 4,
 "nbformat_minor": 4
}
