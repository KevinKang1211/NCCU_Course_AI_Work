{
 "cells": [
  {
   "cell_type": "markdown",
   "metadata": {},
   "source": [
    "# 第二次自由程式-2"
   ]
  },
  {
   "cell_type": "code",
   "execution_count": 1,
   "metadata": {},
   "outputs": [
    {
     "name": "stdout",
     "output_type": "stream",
     "text": [
      "歡迎使用24小時全自動繳費系統！\n",
      "提醒：停車每半小時30元，未滿半小時/一小時則分別以半小時/一小時計。\n",
      "請依單據輸入入場時間 (ex:20:10)：20:30\n",
      "請依螢幕時間輸入離場時間 (ex:20:10)：23:05\n",
      "總停車時數為： 155 分鐘。您目前應付金額為 180 元。\n",
      "請問您是否有在旅展使用現金消費？輸入是或否：是\n",
      "輸入您今日現金消費的金額：2000\n",
      "很抱歉，今日現金消費金額需達3000元始得進行停車費折抵。故今日總停車時數為 155 分鐘，停車費為 180 元，謝謝您的光臨。\n"
     ]
    }
   ],
   "source": [
    "import math #匯入math函數功能\n",
    "\n",
    "print(\"歡迎使用24小時全自動繳費系統！\\n\"\n",
    "      \"提醒：停車每半小時30元，未滿半小時/一小時則分別以半小時/一小時計。\")\n",
    "while True:\n",
    "    inTimeS = input('請依單據輸入入場時間 (ex:20:10)：')     \n",
    "    outTimeS = input('請依螢幕時間輸入離場時間 (ex:20:10)：')\n",
    "    if inTimeS.isdecimal() and outTimeS.isdecimal(): #排除只輸入數字的格式 (ex.1211)\n",
    "        print(\"輸入格式錯誤！請重新輸入。\")\n",
    "    else:\n",
    "        inTime = inTimeS.split(':') #運用split函數的功能，以指定符號\":\"對字串進行切片，分成兩個物件丟進空串列中，達到分別輸入時、分的效果。\n",
    "        outTime = outTimeS.split(':')\n",
    "        break\n",
    "    \n",
    "hour = int(outTime[0]) - int(inTime[0]) \n",
    "if int(outTime[0]) < int(inTime[0]) and int(outTime[1]) < int(inTime[1]): #過夜(離場「時」的值小於進場「時」的值)且離場「分」的值小於進場「分」的值 ex.23:30進場 00:20離場\n",
    "    hour= (24-int(inTime[0])) + int(outTime[0])\n",
    "    hour -= 1\n",
    "    minute = int(outTime[1]) - int(inTime[1]) +60 \n",
    "    totalTime = hour*60 + minute\n",
    "elif int(outTime[1]) < int(inTime[1]): #離場「分」的值小於進場「分」的值 ex. 13:30進場 14:20離場\n",
    "    minute = int(outTime[1]) - int(inTime[1]) +60 \n",
    "    hour -= 1\n",
    "    totalTime = hour*60 + minute\n",
    "elif int(outTime[0]) < int(inTime[0]): #過夜(離場「時」的值小於進場「時」的值) ex. 23:20進場 00:30離場\n",
    "    hour= (24-int(inTime[0])) + int(outTime[0])\n",
    "    minute = int(outTime[1]) - int(inTime[1])\n",
    "    totalTime = hour*60 + minute\n",
    "else: \n",
    "    minute = int(outTime[1]) - int(inTime[1]) \n",
    "    totalTime = hour*60 + minute    \n",
    "\n",
    "money=int(math.ceil(totalTime/30))*30  #以半小時(30分鐘)為計算單位，以無條件進位的方式達成未滿半小時/一小時則分別以半小時/一小時計的功能。\n",
    "print(\"總停車時數為：\",totalTime,\"分鐘。您目前應付金額為\",money,\"元。\")\n",
    "\n",
    "while True: #\n",
    "    notFin = True #True才能進去\n",
    "    if notFin:\n",
    "        check=input(\"請問您是否有在旅展使用現金消費？輸入是或否：\")\n",
    "        if check==\"是\":\n",
    "            while True:\n",
    "                cash=input(\"輸入您今日現金消費的金額：\")\n",
    "                if cash.isdecimal(): #排除輸入金額不是正整數或0的狀況\n",
    "                    if 3000<=int(cash)<7000:\n",
    "                        a=money*0.9\n",
    "                        print(\"今日現金消費滿3000元，因此停車費在折抵後為\",a,\"元，謝謝您的光臨。\")\n",
    "                        notFin = False #false寫入，break出去到最外層的while迴圈，過不去->false\n",
    "                        break\n",
    "                    elif 7000<=int(cash)<10000:\n",
    "                        b=money*0.8\n",
    "                        print(\"今日現金消費滿7000元，因此停車費在折抵後為\",b,\"元，謝謝您的光臨。\")\n",
    "                        notFin = False #false寫入，break出去到最外層的while迴圈，過不去->false\n",
    "                        break\n",
    "                    elif int(cash)>=10000:\n",
    "                        c=money*0.7\n",
    "                        print(\"今日現金消費滿10000元，因此停車費在折抵後為\",c,\"元，謝謝您的光臨。\")\n",
    "                        notFin = False #false寫入，break出去到最外層的while迴圈，過不去->false\n",
    "                        break\n",
    "                    else:\n",
    "                        print(\"很抱歉，今日現金消費金額需達3000元始得進行停車費折抵。故今日總停車時數為\",totalTime,\"分鐘，停車費為\",money,\"元，謝謝您的光臨。\")\n",
    "                        notFin = False  #false寫入，break出去到最外層的while迴圈，過不去->false\n",
    "                        break\n",
    "                else:\n",
    "                    print(\"輸入格式錯誤！請重新輸入。\")\n",
    "        elif check==\"否\":\n",
    "            print(\"今日總停車時數為\",totalTime,\"分鐘，停車費為\",money,\"元。\")\n",
    "            break\n",
    "        else:\n",
    "            print(\"輸入格式錯誤！請重新輸入。\")\n",
    "    break"
   ]
  },
  {
   "cell_type": "code",
   "execution_count": null,
   "metadata": {},
   "outputs": [],
   "source": []
  }
 ],
 "metadata": {
  "kernelspec": {
   "display_name": "Python 3",
   "language": "python",
   "name": "python3"
  },
  "language_info": {
   "codemirror_mode": {
    "name": "ipython",
    "version": 3
   },
   "file_extension": ".py",
   "mimetype": "text/x-python",
   "name": "python",
   "nbconvert_exporter": "python",
   "pygments_lexer": "ipython3",
   "version": "3.7.4"
  }
 },
 "nbformat": 4,
 "nbformat_minor": 2
}
