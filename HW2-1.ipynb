{
 "cells": [
  {
   "cell_type": "markdown",
   "metadata": {},
   "source": [
    "# 第二次自由程式-1"
   ]
  },
  {
   "cell_type": "code",
   "execution_count": null,
   "metadata": {},
   "outputs": [
    {
     "name": "stdout",
     "output_type": "stream",
     "text": [
      "你的第一個數字為 13 要繼續拿牌嗎？\n",
      "要或不要：要\n",
      "你這次得到的數字是 4 ，然後你現在總共有 17 點\n",
      "要或不要：不要\n",
      "你總共有: 17 點，莊家總共有: 10 點\n",
      "你贏了！\n",
      " \n",
      "你的第一個數字為 7 要繼續拿牌嗎？\n"
     ]
    }
   ],
   "source": [
    "import random\n",
    "\n",
    "while True:\n",
    "    player=0\n",
    "    dealer=0    \n",
    "    a=random.randint(1,13)\n",
    "    b=random.randint(1,13)\n",
    "    player = player + a\n",
    "    dealer = dealer + b\n",
    "    print('你的第一個數字為',player,'要繼續拿牌嗎？')\n",
    "    confirm =input('要或不要：')\n",
    "    while True:    \n",
    "        if (confirm=='要'):\n",
    "            second = player\n",
    "            ran1 = random.randint(1,13)\n",
    "            ran2 = random.randint(1,13)\n",
    "            player = player+ran1\n",
    "            dealer = dealer+ran2\n",
    "            print('你這次得到的數字是',player-second,'，然後你現在總共有',player,'點')\n",
    "            if (dealer>21 or player>21):\n",
    "                break\n",
    "            confirm =input('要或不要：')         \n",
    "        else:\n",
    "            break\n",
    "    else:\n",
    "        print('你總共有',player,'點，莊家有',dealer,'點')\n",
    "\n",
    "    if player<=21:\n",
    "        if dealer<=21:\n",
    "            if player<dealer:\n",
    "                print('你總共有:',player,'點，莊家總共有:',dealer,'點')\n",
    "                print('莊家贏了，再接再厲')\n",
    "            else:\n",
    "                print('你總共有:',player,'點，莊家總共有:',dealer,'點')\n",
    "                print('你贏了！')\n",
    "        else:\n",
    "            print('你總共有:',player,'點，莊家總共有:',dealer,'點')\n",
    "            print('莊家爆了，所以你贏了！恭喜你')\n",
    "    else:\n",
    "        print('你爆了，你總共有:',player,'點，莊家總共有:',dealer,'點，莊家贏了！')\n",
    "    print(\" \")"
   ]
  },
  {
   "cell_type": "code",
   "execution_count": null,
   "metadata": {},
   "outputs": [],
   "source": []
  }
 ],
 "metadata": {
  "kernelspec": {
   "display_name": "Python 3",
   "language": "python",
   "name": "python3"
  },
  "language_info": {
   "codemirror_mode": {
    "name": "ipython",
    "version": 3
   },
   "file_extension": ".py",
   "mimetype": "text/x-python",
   "name": "python",
   "nbconvert_exporter": "python",
   "pygments_lexer": "ipython3",
   "version": "3.7.4"
  }
 },
 "nbformat": 4,
 "nbformat_minor": 2
}
