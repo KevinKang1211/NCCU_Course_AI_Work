{
 "cells": [
  {
   "cell_type": "markdown",
   "metadata": {},
   "source": [
    "# 第一次作業"
   ]
  },
  {
   "cell_type": "code",
   "execution_count": 1,
   "metadata": {},
   "outputs": [
    {
     "name": "stdout",
     "output_type": "stream",
     "text": [
      "請輸入騎乘分鐘數：180\n",
      "60 元。\n"
     ]
    }
   ],
   "source": [
    "m = input(\"請輸入騎乘分鐘數：\")\n",
    "m = int(m)\n",
    "if  m<=30:\n",
    "    print(\"免費。\")\n",
    "elif 30<m<=240:\n",
    "    a=m//30*10\n",
    "    print(a,\"元。\")\n",
    "elif 240<m<=480:\n",
    "    a=m//30*20\n",
    "    print(a,\"元。\")\n",
    "else:\n",
    "    a=m//30*40\n",
    "    print(a,\"元。\")"
   ]
  },
  {
   "cell_type": "code",
   "execution_count": null,
   "metadata": {},
   "outputs": [],
   "source": []
  }
 ],
 "metadata": {
  "kernelspec": {
   "display_name": "Python 3",
   "language": "python",
   "name": "python3"
  },
  "language_info": {
   "codemirror_mode": {
    "name": "ipython",
    "version": 3
   },
   "file_extension": ".py",
   "mimetype": "text/x-python",
   "name": "python",
   "nbconvert_exporter": "python",
   "pygments_lexer": "ipython3",
   "version": "3.7.4"
  }
 },
 "nbformat": 4,
 "nbformat_minor": 2
}
