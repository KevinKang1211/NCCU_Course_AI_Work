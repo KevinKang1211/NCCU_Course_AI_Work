{
 "cells": [
  {
   "cell_type": "code",
   "execution_count": null,
   "metadata": {},
   "outputs": [
    {
     "name": "stdout",
     "output_type": "stream",
     "text": [
      "請輸入你的出生西元年：1997\n",
      "你的生肖是：牛\n",
      "您今年很順遂喔，是個平安的一年。\n",
      "請輸入你的出生西元年：2024\n",
      "你的生肖是：龍\n",
      "您今年很順遂喔，是個平安的一年。\n",
      "請輸入你的出生西元年：2001\n",
      "你的生肖是：蛇\n",
      "您今年犯太歲，記得去廟裡拜拜點燈求平安。\n"
     ]
    }
   ],
   "source": [
    "while True:\n",
    "    year=input(\"請輸入你的出生西元年：\")\n",
    "    years=int(year)%12\n",
    "    animal=['猴','雞','狗','豬','鼠','牛','虎','兔','龍','蛇','馬','羊']\n",
    "    yours=animal[years]\n",
    "    print('你的生肖是：',yours,sep='')\n",
    "    if years==0:\n",
    "        print(\"您今年屬於害太歲，與人交往，謹慎為之。\")\n",
    "    elif years==3:\n",
    "        print(\"您今年犯太歲，記得去廟裡拜拜點燈求平安。\")\n",
    "    elif years==6:\n",
    "        print(\"您今年屬於破太歲，要記得到廟裡點財神燈，守住你的財。\")\n",
    "    elif years==9:\n",
    "        print(\"您今年犯太歲，記得去廟裡拜拜點燈求平安。\")\n",
    "    else:\n",
    "        print(\"您今年很順遂喔，是個平安的一年。\")"
   ]
  },
  {
   "cell_type": "code",
   "execution_count": null,
   "metadata": {},
   "outputs": [],
   "source": []
  }
 ],
 "metadata": {
  "kernelspec": {
   "display_name": "Python 3",
   "language": "python",
   "name": "python3"
  },
  "language_info": {
   "codemirror_mode": {
    "name": "ipython",
    "version": 3
   },
   "file_extension": ".py",
   "mimetype": "text/x-python",
   "name": "python",
   "nbconvert_exporter": "python",
   "pygments_lexer": "ipython3",
   "version": "3.7.6"
  }
 },
 "nbformat": 4,
 "nbformat_minor": 4
}
