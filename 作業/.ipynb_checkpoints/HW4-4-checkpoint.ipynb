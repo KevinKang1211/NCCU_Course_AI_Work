{
 "cells": [
  {
   "cell_type": "code",
   "execution_count": 1,
   "metadata": {},
   "outputs": [],
   "source": [
    "%matplotlib inline \n",
    "import numpy as np\n",
    "import matplotlib.pyplot as plt\n",
    "import pandas as pd"
   ]
  },
  {
   "cell_type": "code",
   "execution_count": 2,
   "metadata": {},
   "outputs": [],
   "source": [
    "df = pd.read_csv('nccu_student.csv')"
   ]
  },
  {
   "cell_type": "code",
   "execution_count": 4,
   "metadata": {},
   "outputs": [
    {
     "data": {
      "text/html": [
       "<div>\n",
       "<style scoped>\n",
       "    .dataframe tbody tr th:only-of-type {\n",
       "        vertical-align: middle;\n",
       "    }\n",
       "\n",
       "    .dataframe tbody tr th {\n",
       "        vertical-align: top;\n",
       "    }\n",
       "\n",
       "    .dataframe thead th {\n",
       "        text-align: right;\n",
       "    }\n",
       "</style>\n",
       "<table border=\"1\" class=\"dataframe\">\n",
       "  <thead>\n",
       "    <tr style=\"text-align: right;\">\n",
       "      <th></th>\n",
       "      <th>等級別</th>\n",
       "      <th>一年級男生</th>\n",
       "      <th>一年級女生</th>\n",
       "      <th>二年級男生</th>\n",
       "      <th>二年級女生</th>\n",
       "      <th>三年級男生</th>\n",
       "      <th>三年級女生</th>\n",
       "      <th>四年級男生</th>\n",
       "      <th>四年級女生</th>\n",
       "    </tr>\n",
       "  </thead>\n",
       "  <tbody>\n",
       "    <tr>\n",
       "      <th>0</th>\n",
       "      <td>D 博士</td>\n",
       "      <td>96</td>\n",
       "      <td>85</td>\n",
       "      <td>82</td>\n",
       "      <td>78</td>\n",
       "      <td>93</td>\n",
       "      <td>59</td>\n",
       "      <td>77</td>\n",
       "      <td>54</td>\n",
       "    </tr>\n",
       "    <tr>\n",
       "      <th>1</th>\n",
       "      <td>M 碩士</td>\n",
       "      <td>624</td>\n",
       "      <td>742</td>\n",
       "      <td>632</td>\n",
       "      <td>695</td>\n",
       "      <td>348</td>\n",
       "      <td>431</td>\n",
       "      <td>250</td>\n",
       "      <td>276</td>\n",
       "    </tr>\n",
       "    <tr>\n",
       "      <th>2</th>\n",
       "      <td>B 學士</td>\n",
       "      <td>899</td>\n",
       "      <td>1287</td>\n",
       "      <td>890</td>\n",
       "      <td>1332</td>\n",
       "      <td>878</td>\n",
       "      <td>1325</td>\n",
       "      <td>990</td>\n",
       "      <td>1240</td>\n",
       "    </tr>\n",
       "    <tr>\n",
       "      <th>3</th>\n",
       "      <td>M 職碩士</td>\n",
       "      <td>303</td>\n",
       "      <td>248</td>\n",
       "      <td>253</td>\n",
       "      <td>259</td>\n",
       "      <td>201</td>\n",
       "      <td>210</td>\n",
       "      <td>86</td>\n",
       "      <td>90</td>\n",
       "    </tr>\n",
       "  </tbody>\n",
       "</table>\n",
       "</div>"
      ],
      "text/plain": [
       "     等級別  一年級男生  一年級女生  二年級男生  二年級女生  三年級男生  三年級女生  四年級男生  四年級女生\n",
       "0   D 博士     96     85     82     78     93     59     77     54\n",
       "1   M 碩士    624    742    632    695    348    431    250    276\n",
       "2   B 學士    899   1287    890   1332    878   1325    990   1240\n",
       "3  M 職碩士    303    248    253    259    201    210     86     90"
      ]
     },
     "execution_count": 4,
     "metadata": {},
     "output_type": "execute_result"
    }
   ],
   "source": [
    "df.head()"
   ]
  },
  {
   "cell_type": "code",
   "execution_count": 5,
   "metadata": {},
   "outputs": [],
   "source": [
    "df[\"男生總人數\"] = df[[\"一年級男生\", \"二年級男生\", \"三年級男生\", \"四年級男生\"]].sum(1)\n",
    "df[\"女生總人數\"] = df[[\"一年級女生\", \"二年級女生\", \"三年級女生\", \"四年級女生\"]].sum(1)"
   ]
  },
  {
   "cell_type": "code",
   "execution_count": 6,
   "metadata": {},
   "outputs": [
    {
     "data": {
      "text/html": [
       "<div>\n",
       "<style scoped>\n",
       "    .dataframe tbody tr th:only-of-type {\n",
       "        vertical-align: middle;\n",
       "    }\n",
       "\n",
       "    .dataframe tbody tr th {\n",
       "        vertical-align: top;\n",
       "    }\n",
       "\n",
       "    .dataframe thead th {\n",
       "        text-align: right;\n",
       "    }\n",
       "</style>\n",
       "<table border=\"1\" class=\"dataframe\">\n",
       "  <thead>\n",
       "    <tr style=\"text-align: right;\">\n",
       "      <th></th>\n",
       "      <th>等級別</th>\n",
       "      <th>一年級男生</th>\n",
       "      <th>一年級女生</th>\n",
       "      <th>二年級男生</th>\n",
       "      <th>二年級女生</th>\n",
       "      <th>三年級男生</th>\n",
       "      <th>三年級女生</th>\n",
       "      <th>四年級男生</th>\n",
       "      <th>四年級女生</th>\n",
       "      <th>男生總人數</th>\n",
       "      <th>女生總人數</th>\n",
       "    </tr>\n",
       "  </thead>\n",
       "  <tbody>\n",
       "    <tr>\n",
       "      <th>0</th>\n",
       "      <td>D 博士</td>\n",
       "      <td>96</td>\n",
       "      <td>85</td>\n",
       "      <td>82</td>\n",
       "      <td>78</td>\n",
       "      <td>93</td>\n",
       "      <td>59</td>\n",
       "      <td>77</td>\n",
       "      <td>54</td>\n",
       "      <td>348</td>\n",
       "      <td>276</td>\n",
       "    </tr>\n",
       "    <tr>\n",
       "      <th>1</th>\n",
       "      <td>M 碩士</td>\n",
       "      <td>624</td>\n",
       "      <td>742</td>\n",
       "      <td>632</td>\n",
       "      <td>695</td>\n",
       "      <td>348</td>\n",
       "      <td>431</td>\n",
       "      <td>250</td>\n",
       "      <td>276</td>\n",
       "      <td>1854</td>\n",
       "      <td>2144</td>\n",
       "    </tr>\n",
       "    <tr>\n",
       "      <th>2</th>\n",
       "      <td>B 學士</td>\n",
       "      <td>899</td>\n",
       "      <td>1287</td>\n",
       "      <td>890</td>\n",
       "      <td>1332</td>\n",
       "      <td>878</td>\n",
       "      <td>1325</td>\n",
       "      <td>990</td>\n",
       "      <td>1240</td>\n",
       "      <td>3657</td>\n",
       "      <td>5184</td>\n",
       "    </tr>\n",
       "    <tr>\n",
       "      <th>3</th>\n",
       "      <td>M 職碩士</td>\n",
       "      <td>303</td>\n",
       "      <td>248</td>\n",
       "      <td>253</td>\n",
       "      <td>259</td>\n",
       "      <td>201</td>\n",
       "      <td>210</td>\n",
       "      <td>86</td>\n",
       "      <td>90</td>\n",
       "      <td>843</td>\n",
       "      <td>807</td>\n",
       "    </tr>\n",
       "  </tbody>\n",
       "</table>\n",
       "</div>"
      ],
      "text/plain": [
       "     等級別  一年級男生  一年級女生  二年級男生  二年級女生  三年級男生  三年級女生  四年級男生  四年級女生  男生總人數  女生總人數\n",
       "0   D 博士     96     85     82     78     93     59     77     54    348    276\n",
       "1   M 碩士    624    742    632    695    348    431    250    276   1854   2144\n",
       "2   B 學士    899   1287    890   1332    878   1325    990   1240   3657   5184\n",
       "3  M 職碩士    303    248    253    259    201    210     86     90    843    807"
      ]
     },
     "execution_count": 6,
     "metadata": {},
     "output_type": "execute_result"
    }
   ],
   "source": [
    "df.head()"
   ]
  },
  {
   "cell_type": "code",
   "execution_count": 10,
   "metadata": {},
   "outputs": [
    {
     "data": {
      "text/html": [
       "<div>\n",
       "<style scoped>\n",
       "    .dataframe tbody tr th:only-of-type {\n",
       "        vertical-align: middle;\n",
       "    }\n",
       "\n",
       "    .dataframe tbody tr th {\n",
       "        vertical-align: top;\n",
       "    }\n",
       "\n",
       "    .dataframe thead th {\n",
       "        text-align: right;\n",
       "    }\n",
       "</style>\n",
       "<table border=\"1\" class=\"dataframe\">\n",
       "  <thead>\n",
       "    <tr style=\"text-align: right;\">\n",
       "      <th></th>\n",
       "      <th>等級別</th>\n",
       "      <th>一年級男生</th>\n",
       "      <th>一年級女生</th>\n",
       "      <th>二年級男生</th>\n",
       "      <th>二年級女生</th>\n",
       "      <th>三年級男生</th>\n",
       "      <th>三年級女生</th>\n",
       "      <th>四年級男生</th>\n",
       "      <th>四年級女生</th>\n",
       "      <th>男生總人數</th>\n",
       "      <th>女生總人數</th>\n",
       "    </tr>\n",
       "  </thead>\n",
       "  <tbody>\n",
       "    <tr>\n",
       "      <th>2</th>\n",
       "      <td>B 學士</td>\n",
       "      <td>899</td>\n",
       "      <td>1287</td>\n",
       "      <td>890</td>\n",
       "      <td>1332</td>\n",
       "      <td>878</td>\n",
       "      <td>1325</td>\n",
       "      <td>990</td>\n",
       "      <td>1240</td>\n",
       "      <td>3657</td>\n",
       "      <td>5184</td>\n",
       "    </tr>\n",
       "    <tr>\n",
       "      <th>1</th>\n",
       "      <td>M 碩士</td>\n",
       "      <td>624</td>\n",
       "      <td>742</td>\n",
       "      <td>632</td>\n",
       "      <td>695</td>\n",
       "      <td>348</td>\n",
       "      <td>431</td>\n",
       "      <td>250</td>\n",
       "      <td>276</td>\n",
       "      <td>1854</td>\n",
       "      <td>2144</td>\n",
       "    </tr>\n",
       "    <tr>\n",
       "      <th>3</th>\n",
       "      <td>M 職碩士</td>\n",
       "      <td>303</td>\n",
       "      <td>248</td>\n",
       "      <td>253</td>\n",
       "      <td>259</td>\n",
       "      <td>201</td>\n",
       "      <td>210</td>\n",
       "      <td>86</td>\n",
       "      <td>90</td>\n",
       "      <td>843</td>\n",
       "      <td>807</td>\n",
       "    </tr>\n",
       "    <tr>\n",
       "      <th>0</th>\n",
       "      <td>D 博士</td>\n",
       "      <td>96</td>\n",
       "      <td>85</td>\n",
       "      <td>82</td>\n",
       "      <td>78</td>\n",
       "      <td>93</td>\n",
       "      <td>59</td>\n",
       "      <td>77</td>\n",
       "      <td>54</td>\n",
       "      <td>348</td>\n",
       "      <td>276</td>\n",
       "    </tr>\n",
       "  </tbody>\n",
       "</table>\n",
       "</div>"
      ],
      "text/plain": [
       "     等級別  一年級男生  一年級女生  二年級男生  二年級女生  三年級男生  三年級女生  四年級男生  四年級女生  男生總人數  女生總人數\n",
       "2   B 學士    899   1287    890   1332    878   1325    990   1240   3657   5184\n",
       "1   M 碩士    624    742    632    695    348    431    250    276   1854   2144\n",
       "3  M 職碩士    303    248    253    259    201    210     86     90    843    807\n",
       "0   D 博士     96     85     82     78     93     59     77     54    348    276"
      ]
     },
     "execution_count": 10,
     "metadata": {},
     "output_type": "execute_result"
    }
   ],
   "source": [
    "df.sort_values(by=[\"男生總人數\",\"女生總人數\"], ascending = False).head()"
   ]
  },
  {
   "cell_type": "code",
   "execution_count": 24,
   "metadata": {},
   "outputs": [
    {
     "data": {
      "text/plain": [
       "<matplotlib.axes._subplots.AxesSubplot at 0x261abf5c0c8>"
      ]
     },
     "execution_count": 24,
     "metadata": {},
     "output_type": "execute_result"
    },
    {
     "data": {
      "image/png": "[encoded data removed]",
      "text/plain": [
       "<Figure size 432x288 with 1 Axes>"
      ]
     },
     "metadata": {
      "needs_background": "light"
     },
     "output_type": "display_data"
    }
   ],
   "source": [
    "df.男生總人數.plot(kind='bar')"
   ]
  },
  {
   "cell_type": "code",
   "execution_count": 25,
   "metadata": {},
   "outputs": [
    {
     "data": {
      "text/plain": [
       "<matplotlib.axes._subplots.AxesSubplot at 0x261abfc9588>"
      ]
     },
     "execution_count": 25,
     "metadata": {},
     "output_type": "execute_result"
    },
    {
     "data": {
      "image/png": "[encoded data removed]",
      "text/plain": [
       "<Figure size 432x288 with 1 Axes>"
      ]
     },
     "metadata": {
      "needs_background": "light"
     },
     "output_type": "display_data"
    }
   ],
   "source": [
    "df.女生總人數.plot(kind='bar')"
   ]
  },
  {
   "cell_type": "code",
   "execution_count": null,
   "metadata": {},
   "outputs": [],
   "source": []
  }
 ],
 "metadata": {
  "kernelspec": {
   "display_name": "Python 3",
   "language": "python",
   "name": "python3"
  },
  "language_info": {
   "codemirror_mode": {
    "name": "ipython",
    "version": 3
   },
   "file_extension": ".py",
   "mimetype": "text/x-python",
   "name": "python",
   "nbconvert_exporter": "python",
   "pygments_lexer": "ipython3",
   "version": "3.7.6"
  }
 },
 "nbformat": 4,
 "nbformat_minor": 4
}
