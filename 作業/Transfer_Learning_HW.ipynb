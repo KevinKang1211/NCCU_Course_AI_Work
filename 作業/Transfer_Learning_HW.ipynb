{
  "nbformat": 4,
  "nbformat_minor": 0,
  "metadata": {
    "colab": {
      "name": "Transfer Learning_HW.ipynb",
      "provenance": [],
      "collapsed_sections": []
    },
    "kernelspec": {
      "name": "python3",
      "display_name": "Python 3"
    },
    "accelerator": "GPU"
  },
  "cells": [
    {
      "cell_type": "markdown",
      "metadata": {
        "id": "BPUAq5NfaHR_",
        "colab_type": "text"
      },
      "source": [
        "\n",
        "### 1. 切換 TensorFlow 版本至 2.x"
      ]
    },
    {
      "cell_type": "code",
      "metadata": {
        "id": "efkWZNg4acU-",
        "colab_type": "code",
        "colab": {}
      },
      "source": [
        "%tensorflow_version 2.x"
      ],
      "execution_count": 0,
      "outputs": []
    },
    {
      "cell_type": "markdown",
      "metadata": {
        "id": "n4IQgrKPaqFo",
        "colab_type": "text"
      },
      "source": [
        "## 2. 載入套件及資料集"
      ]
    },
    {
      "cell_type": "code",
      "metadata": {
        "id": "2KsLNkkEatQf",
        "colab_type": "code",
        "colab": {}
      },
      "source": [
        "import matplotlib.pyplot as plt\n",
        "import numpy as np\n",
        "\n",
        "# Layers for FNN\n",
        "from tensorflow.keras.models import Sequential\n",
        "from tensorflow.keras.layers import Dense\n",
        "from tensorflow.keras.layers import Flatten\n",
        "\n",
        "# Layers for CNN\n",
        "from tensorflow.keras.layers import Conv2D, MaxPool2D, GlobalAveragePooling2D\n",
        "from tensorflow.keras.optimizers import SGD, Adam\n",
        "\n",
        "# Data Preprocessing\n",
        "from tensorflow.keras import datasets\n",
        "from tensorflow.keras.utils import to_categorical"
      ],
      "execution_count": 0,
      "outputs": []
    },
    {
      "cell_type": "markdown",
      "metadata": {
        "id": "2cGGwsU8a3KJ",
        "colab_type": "text"
      },
      "source": [
        "### 3. Data Preprocessing"
      ]
    },
    {
      "cell_type": "code",
      "metadata": {
        "id": "RQnJLq9_dGJf",
        "colab_type": "code",
        "colab": {}
      },
      "source": [
        "name_list = ['airplane', 'automobile', 'bird', 'cat', 'deer', 'dog', 'frog', 'horse', 'ship', 'truck']"
      ],
      "execution_count": 0,
      "outputs": []
    },
    {
      "cell_type": "code",
      "metadata": {
        "id": "JvXPNlhTdHwu",
        "colab_type": "code",
        "colab": {
          "base_uri": "https://localhost:8080/",
          "height": 50
        },
        "outputId": "5baf0531-1239-4604-f7b7-34ed47456e04"
      },
      "source": [
        "# 讀取資料\n",
        "(X_train, y_train0), (X_test, y_test0) = datasets.cifar10.load_data()\n",
        "\n",
        "# 將資料標準化\n",
        "X_train = X_train / X_train.max()\n",
        "X_test = X_test / X_test.max()\n",
        "\n",
        "# One-hot encoding\n",
        "y_train = to_categorical(y_train0, 10)\n",
        "y_test = to_categorical(y_test0, 10)"
      ],
      "execution_count": 5,
      "outputs": [
        {
          "output_type": "stream",
          "text": [
            "Downloading data from https://www.cs.toronto.edu/~kriz/cifar-10-python.tar.gz\n",
            "170500096/170498071 [==============================] - 13s 0us/step\n"
          ],
          "name": "stdout"
        }
      ]
    },
    {
      "cell_type": "code",
      "metadata": {
        "id": "18VDM81ddeez",
        "colab_type": "code",
        "colab": {
          "base_uri": "https://localhost:8080/",
          "height": 264
        },
        "outputId": "b7aad327-081e-4819-b6a6-c446a7292a55"
      },
      "source": [
        "idx = np.random.randint(X_train.shape[0])\n",
        "X_sample = X_train[idx]\n",
        "y_sample = y_train0[idx].squeeze()\n",
        "\n",
        "plt.imshow(X_sample)\n",
        "plt.title(name_list[y_sample])\n",
        "plt.axis('off');"
      ],
      "execution_count": 7,
      "outputs": [
        {
          "output_type": "display_data",
          "data": {
            "image/png": "[encoded data removed]",
            "text/plain": [
              "<Figure size 432x288 with 1 Axes>"
            ]
          },
          "metadata": {
            "tags": [],
            "needs_background": "light"
          }
        }
      ]
    },
    {
      "cell_type": "markdown",
      "metadata": {
        "id": "zGM31iHMdjT6",
        "colab_type": "text"
      },
      "source": [
        "### 5. 建立用於分類A資料集 - CIFAR10的卷積神經網路\n",
        "\n",
        " 修改部分: 將卷積層的filter數量下修為16, 64, 256，並將全連接層的神經元數量下修至128。"
      ]
    },
    {
      "cell_type": "code",
      "metadata": {
        "id": "-6u1txnwdyqx",
        "colab_type": "code",
        "colab": {}
      },
      "source": [
        "CNN_layers = [Conv2D(16, (3, 3), input_shape=(32, 32, 3), padding='same', activation='relu', name='Conv_1'),\n",
        "              MaxPool2D(),\n",
        "              Conv2D(64, (3, 3), padding='same', activation='relu', name='Conv_2'),\n",
        "              MaxPool2D(),\n",
        "              Conv2D(256, (3, 3), padding='same', activation='relu', name='Conv_3'),\n",
        "              GlobalAveragePooling2D()]\n",
        "\n",
        "FC_layers = [Dense(units=128, activation='relu'),\n",
        "             Dense(units=10, activation='softmax')]"
      ],
      "execution_count": 0,
      "outputs": []
    },
    {
      "cell_type": "code",
      "metadata": {
        "id": "P5rK6tAlfF6Q",
        "colab_type": "code",
        "colab": {
          "base_uri": "https://localhost:8080/",
          "height": 420
        },
        "outputId": "d0153317-74c0-4237-c2b4-859762c11c93"
      },
      "source": [
        "og_model = Sequential(CNN_layers+FC_layers)\n",
        "og_model.summary()"
      ],
      "execution_count": 14,
      "outputs": [
        {
          "output_type": "stream",
          "text": [
            "Model: \"sequential_1\"\n",
            "_________________________________________________________________\n",
            "Layer (type)                 Output Shape              Param #   \n",
            "=================================================================\n",
            "Conv_1 (Conv2D)              (None, 32, 32, 16)        448       \n",
            "_________________________________________________________________\n",
            "max_pooling2d_4 (MaxPooling2 (None, 16, 16, 16)        0         \n",
            "_________________________________________________________________\n",
            "Conv_2 (Conv2D)              (None, 16, 16, 64)        9280      \n",
            "_________________________________________________________________\n",
            "max_pooling2d_5 (MaxPooling2 (None, 8, 8, 64)          0         \n",
            "_________________________________________________________________\n",
            "Conv_3 (Conv2D)              (None, 8, 8, 256)         147712    \n",
            "_________________________________________________________________\n",
            "global_average_pooling2d_2 ( (None, 256)               0         \n",
            "_________________________________________________________________\n",
            "dense_4 (Dense)              (None, 128)               32896     \n",
            "_________________________________________________________________\n",
            "dense_5 (Dense)              (None, 10)                1290      \n",
            "=================================================================\n",
            "Total params: 191,626\n",
            "Trainable params: 191,626\n",
            "Non-trainable params: 0\n",
            "_________________________________________________________________\n"
          ],
          "name": "stdout"
        }
      ]
    },
    {
      "cell_type": "markdown",
      "metadata": {
        "id": "8RTGc6g0fopX",
        "colab_type": "text"
      },
      "source": [
        "修改部分: 將optimizer改用SGD，並將learning rate設定為0.06。\n",
        "\n",
        "再將batch_size下修至100，訓練10次。"
      ]
    },
    {
      "cell_type": "code",
      "metadata": {
        "id": "5t9plIsXfKOb",
        "colab_type": "code",
        "colab": {}
      },
      "source": [
        "og_model.compile(loss='categorical_crossentropy', \n",
        "              optimizer=SGD(lr=0.06),\n",
        "              metrics=['categorical_accuracy'])"
      ],
      "execution_count": 0,
      "outputs": []
    },
    {
      "cell_type": "code",
      "metadata": {
        "id": "1ak_jJcBhPAD",
        "colab_type": "code",
        "colab": {
          "base_uri": "https://localhost:8080/",
          "height": 370
        },
        "outputId": "90866a39-783c-49d4-a765-da5d7e613141"
      },
      "source": [
        "og_model.fit(X_train, y_train,\n",
        "             batch_size=100, epochs=10,\n",
        "             validation_data=(X_test, y_test))"
      ],
      "execution_count": 16,
      "outputs": [
        {
          "output_type": "stream",
          "text": [
            "Epoch 1/10\n",
            "500/500 [==============================] - 4s 8ms/step - loss: 2.1727 - categorical_accuracy: 0.1879 - val_loss: 2.0535 - val_categorical_accuracy: 0.2419\n",
            "Epoch 2/10\n",
            "500/500 [==============================] - 4s 8ms/step - loss: 1.9967 - categorical_accuracy: 0.2555 - val_loss: 1.9524 - val_categorical_accuracy: 0.2731\n",
            "Epoch 3/10\n",
            "500/500 [==============================] - 4s 8ms/step - loss: 1.8493 - categorical_accuracy: 0.3146 - val_loss: 1.7546 - val_categorical_accuracy: 0.3424\n",
            "Epoch 4/10\n",
            "500/500 [==============================] - 4s 8ms/step - loss: 1.7544 - categorical_accuracy: 0.3517 - val_loss: 1.7347 - val_categorical_accuracy: 0.3508\n",
            "Epoch 5/10\n",
            "500/500 [==============================] - 4s 8ms/step - loss: 1.6722 - categorical_accuracy: 0.3821 - val_loss: 1.6521 - val_categorical_accuracy: 0.3965\n",
            "Epoch 6/10\n",
            "500/500 [==============================] - 4s 8ms/step - loss: 1.5891 - categorical_accuracy: 0.4161 - val_loss: 1.6954 - val_categorical_accuracy: 0.3687\n",
            "Epoch 7/10\n",
            "500/500 [==============================] - 4s 8ms/step - loss: 1.5177 - categorical_accuracy: 0.4459 - val_loss: 1.4964 - val_categorical_accuracy: 0.4538\n",
            "Epoch 8/10\n",
            "500/500 [==============================] - 4s 8ms/step - loss: 1.4609 - categorical_accuracy: 0.4671 - val_loss: 1.4039 - val_categorical_accuracy: 0.4852\n",
            "Epoch 9/10\n",
            "500/500 [==============================] - 4s 8ms/step - loss: 1.4036 - categorical_accuracy: 0.4893 - val_loss: 1.4298 - val_categorical_accuracy: 0.4874\n",
            "Epoch 10/10\n",
            "500/500 [==============================] - 4s 8ms/step - loss: 1.3545 - categorical_accuracy: 0.5093 - val_loss: 1.4513 - val_categorical_accuracy: 0.4984\n"
          ],
          "name": "stdout"
        },
        {
          "output_type": "execute_result",
          "data": {
            "text/plain": [
              "<tensorflow.python.keras.callbacks.History at 0x7f3df659fa58>"
            ]
          },
          "metadata": {
            "tags": []
          },
          "execution_count": 16
        }
      ]
    },
    {
      "cell_type": "markdown",
      "metadata": {
        "id": "JfQ7hobxif_2",
        "colab_type": "text"
      },
      "source": [
        "### 6. 建立B資料集 - CIFAR100的神經網路架構\n",
        "和A資料集借用卷積層的權重，新增CIFAR100自己的全連接層。\n",
        "修改項目: 隱藏層增至3層，神經元分別修改為256, 256, 512。"
      ]
    },
    {
      "cell_type": "code",
      "metadata": {
        "id": "di8eavp1kk50",
        "colab_type": "code",
        "colab": {
          "base_uri": "https://localhost:8080/",
          "height": 50
        },
        "outputId": "4aacf961-f33b-47fd-f22e-e5208c0fe5d9"
      },
      "source": [
        "# 讀取資料\n",
        "(U_train, v_train0), (U_test, v_test0) = datasets.cifar100.load_data()\n",
        "\n",
        "# 將資料標準化\n",
        "U_train = U_train / U_train.max()\n",
        "U_test = U_test / U_test.max()\n",
        "\n",
        "# One-hot encoding\n",
        "v_train = to_categorical(v_train0, 100)\n",
        "v_test = to_categorical(v_test0, 100)"
      ],
      "execution_count": 22,
      "outputs": [
        {
          "output_type": "stream",
          "text": [
            "Downloading data from https://www.cs.toronto.edu/~kriz/cifar-100-python.tar.gz\n",
            "169009152/169001437 [==============================] - 13s 0us/step\n"
          ],
          "name": "stdout"
        }
      ]
    },
    {
      "cell_type": "code",
      "metadata": {
        "id": "IT32qtxBi2SV",
        "colab_type": "code",
        "colab": {}
      },
      "source": [
        "FC_layers_CF100 = [Dense(units=256, activation='relu'),\n",
        "                   Dense(units=256, activation='relu'),\n",
        "                   Dense(units=512, activation='relu'),\n",
        "                   Dense(units=100, activation='softmax')]"
      ],
      "execution_count": 0,
      "outputs": []
    },
    {
      "cell_type": "code",
      "metadata": {
        "id": "WXPR_aG5jrSU",
        "colab_type": "code",
        "colab": {
          "base_uri": "https://localhost:8080/",
          "height": 487
        },
        "outputId": "81d9250f-fb8d-4ad5-d61a-2d80f4cff1ab"
      },
      "source": [
        "new_model = Sequential(CNN_layers+FC_layers_CF100)\n",
        "new_model.summary()"
      ],
      "execution_count": 24,
      "outputs": [
        {
          "output_type": "stream",
          "text": [
            "Model: \"sequential_3\"\n",
            "_________________________________________________________________\n",
            "Layer (type)                 Output Shape              Param #   \n",
            "=================================================================\n",
            "Conv_1 (Conv2D)              (None, 32, 32, 16)        448       \n",
            "_________________________________________________________________\n",
            "max_pooling2d_4 (MaxPooling2 (None, 16, 16, 16)        0         \n",
            "_________________________________________________________________\n",
            "Conv_2 (Conv2D)              (None, 16, 16, 64)        9280      \n",
            "_________________________________________________________________\n",
            "max_pooling2d_5 (MaxPooling2 (None, 8, 8, 64)          0         \n",
            "_________________________________________________________________\n",
            "Conv_3 (Conv2D)              (None, 8, 8, 256)         147712    \n",
            "_________________________________________________________________\n",
            "global_average_pooling2d_2 ( (None, 256)               0         \n",
            "_________________________________________________________________\n",
            "dense_10 (Dense)             (None, 256)               65792     \n",
            "_________________________________________________________________\n",
            "dense_11 (Dense)             (None, 256)               65792     \n",
            "_________________________________________________________________\n",
            "dense_12 (Dense)             (None, 512)               131584    \n",
            "_________________________________________________________________\n",
            "dense_13 (Dense)             (None, 100)               51300     \n",
            "=================================================================\n",
            "Total params: 471,908\n",
            "Trainable params: 314,468\n",
            "Non-trainable params: 157,440\n",
            "_________________________________________________________________\n"
          ],
          "name": "stdout"
        }
      ]
    },
    {
      "cell_type": "markdown",
      "metadata": {
        "id": "k1NF_jrcj5HY",
        "colab_type": "text"
      },
      "source": [
        "### 7. 進行Transfer Learning (Frozen Situation)"
      ]
    },
    {
      "cell_type": "code",
      "metadata": {
        "id": "l_FEPCpykGRa",
        "colab_type": "code",
        "colab": {}
      },
      "source": [
        "for layer in CNN_layers:\n",
        "    layer.trainable = False"
      ],
      "execution_count": 0,
      "outputs": []
    },
    {
      "cell_type": "code",
      "metadata": {
        "id": "XlkYoV-6kInL",
        "colab_type": "code",
        "colab": {
          "base_uri": "https://localhost:8080/",
          "height": 487
        },
        "outputId": "f732d99d-3536-40ee-b6c1-7aa43fb9f226"
      },
      "source": [
        "new_model.summary()\n",
        "# 檢視借來的權重是否確實凍結"
      ],
      "execution_count": 26,
      "outputs": [
        {
          "output_type": "stream",
          "text": [
            "Model: \"sequential_3\"\n",
            "_________________________________________________________________\n",
            "Layer (type)                 Output Shape              Param #   \n",
            "=================================================================\n",
            "Conv_1 (Conv2D)              (None, 32, 32, 16)        448       \n",
            "_________________________________________________________________\n",
            "max_pooling2d_4 (MaxPooling2 (None, 16, 16, 16)        0         \n",
            "_________________________________________________________________\n",
            "Conv_2 (Conv2D)              (None, 16, 16, 64)        9280      \n",
            "_________________________________________________________________\n",
            "max_pooling2d_5 (MaxPooling2 (None, 8, 8, 64)          0         \n",
            "_________________________________________________________________\n",
            "Conv_3 (Conv2D)              (None, 8, 8, 256)         147712    \n",
            "_________________________________________________________________\n",
            "global_average_pooling2d_2 ( (None, 256)               0         \n",
            "_________________________________________________________________\n",
            "dense_10 (Dense)             (None, 256)               65792     \n",
            "_________________________________________________________________\n",
            "dense_11 (Dense)             (None, 256)               65792     \n",
            "_________________________________________________________________\n",
            "dense_12 (Dense)             (None, 512)               131584    \n",
            "_________________________________________________________________\n",
            "dense_13 (Dense)             (None, 100)               51300     \n",
            "=================================================================\n",
            "Total params: 471,908\n",
            "Trainable params: 314,468\n",
            "Non-trainable params: 157,440\n",
            "_________________________________________________________________\n"
          ],
          "name": "stdout"
        }
      ]
    },
    {
      "cell_type": "markdown",
      "metadata": {
        "id": "hWrjBGn4lFUT",
        "colab_type": "text"
      },
      "source": [
        "修改部分: 同樣將optimizer改用SGD，並將learning rate設定為0.06。\n",
        "\n",
        "此次將batch_size上修至150，同樣訓練10次。"
      ]
    },
    {
      "cell_type": "code",
      "metadata": {
        "id": "L77P-jGLkMX7",
        "colab_type": "code",
        "colab": {
          "base_uri": "https://localhost:8080/",
          "height": 370
        },
        "outputId": "ced935f5-57cc-48b7-f913-0d6df17359c2"
      },
      "source": [
        "new_model.compile(loss='categorical_crossentropy', \n",
        "                    optimizer=SGD(lr=0.06),\n",
        "                    metrics=['categorical_accuracy'])\n",
        "new_model.fit(U_train, v_train,\n",
        "                batch_size=150, \n",
        "                epochs=10,\n",
        "                validation_data=(U_test, v_test)\n",
        "                )"
      ],
      "execution_count": 29,
      "outputs": [
        {
          "output_type": "stream",
          "text": [
            "Epoch 1/10\n",
            "334/334 [==============================] - 2s 7ms/step - loss: 3.1743 - categorical_accuracy: 0.2239 - val_loss: 3.2287 - val_categorical_accuracy: 0.2106\n",
            "Epoch 2/10\n",
            "334/334 [==============================] - 2s 6ms/step - loss: 3.1452 - categorical_accuracy: 0.2267 - val_loss: 3.2149 - val_categorical_accuracy: 0.2130\n",
            "Epoch 3/10\n",
            "334/334 [==============================] - 2s 6ms/step - loss: 3.1179 - categorical_accuracy: 0.2320 - val_loss: 3.2331 - val_categorical_accuracy: 0.2040\n",
            "Epoch 4/10\n",
            "334/334 [==============================] - 2s 7ms/step - loss: 3.0919 - categorical_accuracy: 0.2359 - val_loss: 3.1906 - val_categorical_accuracy: 0.2116\n",
            "Epoch 5/10\n",
            "334/334 [==============================] - 2s 7ms/step - loss: 3.0680 - categorical_accuracy: 0.2412 - val_loss: 3.2491 - val_categorical_accuracy: 0.2042\n",
            "Epoch 6/10\n",
            "334/334 [==============================] - 2s 7ms/step - loss: 3.0464 - categorical_accuracy: 0.2454 - val_loss: 3.1191 - val_categorical_accuracy: 0.2281\n",
            "Epoch 7/10\n",
            "334/334 [==============================] - 2s 7ms/step - loss: 3.0193 - categorical_accuracy: 0.2502 - val_loss: 3.1961 - val_categorical_accuracy: 0.2143\n",
            "Epoch 8/10\n",
            "334/334 [==============================] - 2s 7ms/step - loss: 2.9970 - categorical_accuracy: 0.2549 - val_loss: 3.1248 - val_categorical_accuracy: 0.2310\n",
            "Epoch 9/10\n",
            "334/334 [==============================] - 2s 6ms/step - loss: 2.9777 - categorical_accuracy: 0.2593 - val_loss: 3.1123 - val_categorical_accuracy: 0.2302\n",
            "Epoch 10/10\n",
            "334/334 [==============================] - 2s 6ms/step - loss: 2.9580 - categorical_accuracy: 0.2619 - val_loss: 3.0180 - val_categorical_accuracy: 0.2484\n"
          ],
          "name": "stdout"
        },
        {
          "output_type": "execute_result",
          "data": {
            "text/plain": [
              "<tensorflow.python.keras.callbacks.History at 0x7f3d8a5ad550>"
            ]
          },
          "metadata": {
            "tags": []
          },
          "execution_count": 29
        }
      ]
    },
    {
      "cell_type": "markdown",
      "metadata": {
        "id": "FD3HRh-WowVS",
        "colab_type": "text"
      },
      "source": [
        "### 8. 進行簡單的預測"
      ]
    },
    {
      "cell_type": "code",
      "metadata": {
        "id": "cenCG42QnojQ",
        "colab_type": "code",
        "colab": {}
      },
      "source": [
        "result = model.predict_classes(U_test)"
      ],
      "execution_count": 0,
      "outputs": []
    },
    {
      "cell_type": "code",
      "metadata": {
        "id": "x0cMYUJPnolv",
        "colab_type": "code",
        "colab": {}
      },
      "source": [
        "def my_predict(n): \n",
        "    print('New Model的預測是：', name_list[result[n]])\n",
        "    X = U_test[n].reshape(32,32,3)\n",
        "    plt.imshow(X)"
      ],
      "execution_count": 0,
      "outputs": []
    },
    {
      "cell_type": "code",
      "metadata": {
        "id": "zQm-JE2-oX67",
        "colab_type": "code",
        "colab": {
          "base_uri": "https://localhost:8080/",
          "height": 283
        },
        "outputId": "84e813ec-9e29-4819-8c1c-f491c324bd0e"
      },
      "source": [
        "my_predict(5055)"
      ],
      "execution_count": 39,
      "outputs": [
        {
          "output_type": "stream",
          "text": [
            "New Model的預測是： automobile\n"
          ],
          "name": "stdout"
        },
        {
          "output_type": "display_data",
          "data": {
            "image/png": "[encoded data removed]",
            "text/plain": [
              "<Figure size 432x288 with 1 Axes>"
            ]
          },
          "metadata": {
            "tags": [],
            "needs_background": "light"
          }
        }
      ]
    },
    {
      "cell_type": "markdown",
      "metadata": {
        "id": "UXHHPCO5k9dz",
        "colab_type": "text"
      },
      "source": [
        "##### 觀察: 將遷移學習後的神經網路做訓練(不改變借來的權重)，發現效果並不好，正確率下降不少(50% → 26%)"
      ]
    },
    {
      "cell_type": "code",
      "metadata": {
        "id": "pRXV3pXFnnNV",
        "colab_type": "code",
        "colab": {}
      },
      "source": [
        ""
      ],
      "execution_count": 0,
      "outputs": []
    }
  ]
}